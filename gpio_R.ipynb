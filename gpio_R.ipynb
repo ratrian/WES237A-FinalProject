{
 "cells": [
  {
   "cell_type": "markdown",
   "metadata": {},
   "source": [
    "# Interacting with GPIO from MicroBlaze"
   ]
  },
  {
   "cell_type": "code",
   "execution_count": 1,
   "metadata": {},
   "outputs": [
    {
     "data": {
      "application/javascript": [
       "\n",
       "require(['notebook/js/codecell'], function(codecell) {\n",
       "  codecell.CodeCell.options_default.highlight_modes[\n",
       "      'magic_text/x-csrc'] = {'reg':[/^%%microblaze/]};\n",
       "  Jupyter.notebook.events.one('kernel_ready.Kernel', function(){\n",
       "      Jupyter.notebook.get_cells().map(function(cell){\n",
       "          if (cell.cell_type == 'code'){ cell.auto_highlight(); } }) ;\n",
       "  });\n",
       "});\n"
      ]
     },
     "metadata": {},
     "output_type": "display_data"
    }
   ],
   "source": [
    "from pynq.overlays.base import BaseOverlay\n",
    "import time\n",
    "import threading\n",
    "import multiprocessing\n",
    "import os\n",
    "import socket\n",
    "\n",
    "base = BaseOverlay(\"base.bit\")"
   ]
  },
  {
   "cell_type": "code",
   "execution_count": 2,
   "metadata": {},
   "outputs": [],
   "source": [
    "%%microblaze base.PMODA\n",
    "\n",
    "#include \"gpio.h\"\n",
    "#include \"pyprintf.h\"\n",
    "\n",
    "//Function to turn on/off a selected pin of PMODA\n",
    "void write_gpio(unsigned int pin, unsigned int val){\n",
    "    if (val > 1){\n",
    "        pyprintf(\"pin value must be 0 or 1\");\n",
    "    }\n",
    "    gpio pin_out = gpio_open(pin);\n",
    "    gpio_set_direction(pin_out, GPIO_OUT);\n",
    "    gpio_write(pin_out, val);\n",
    "}\n",
    "\n",
    "//Function to read the value of a selected pin of PMODA\n",
    "unsigned int read_gpio(unsigned int pin){\n",
    "    gpio pin_in = gpio_open(pin);\n",
    "    gpio_set_direction(pin_in, GPIO_IN);\n",
    "    return gpio_read(pin_in);\n",
    "}\n",
    "\n",
    "//Add a C++ function to reset all the GPIO pins on the chosen PMOD\n",
    "void reset_gpio(){\n",
    "    for (unsigned int j = 0; j <= 7; j = j + 1) { \n",
    "        write_gpio(j, 0);\n",
    "        //write_gpio(pin,val)\n",
    "        //we want the value reset to zero\n",
    "        //12 pins, starts at 0\n",
    "    }\n",
    "}"
   ]
  },
  {
   "cell_type": "code",
   "execution_count": 3,
   "metadata": {},
   "outputs": [
    {
     "ename": "SyntaxError",
     "evalue": "invalid syntax (<ipython-input-3-54fabb47fdae>, line 18)",
     "output_type": "error",
     "traceback": [
      "\u001b[0;36m  File \u001b[0;32m\"<ipython-input-3-54fabb47fdae>\"\u001b[0;36m, line \u001b[0;32m18\u001b[0m\n\u001b[0;31m    else:\u001b[0m\n\u001b[0m       ^\u001b[0m\n\u001b[0;31mSyntaxError\u001b[0m\u001b[0;31m:\u001b[0m invalid syntax\n"
     ]
    }
   ],
   "source": [
    "blink = [False, False, False]\n",
    "running = True\n",
    "threads = []\n",
    "\n",
    "\n",
    "def loop(_l, num):\n",
    "    global running, blink\n",
    "    while running:\n",
    "        time.sleep(0.0001)\n",
    "        if blink[num]:\n",
    "            resource_available = _l.acquire(False)\n",
    "            if resource_available == True: #Note: We always want the same \"worker\" to have the lock or the LED may not work properly\n",
    "                write_gpio(num+1, 1)\n",
    "                time.sleep(1)\n",
    "                write_gpio(num+1, 0)\n",
    "                time.sleep(1)\n",
    "            _l.release()\n",
    "            else:\n",
    "                time.sleep(1)\n",
    "\n",
    "def start_rgb():\n",
    "    global threads\n",
    "    reset_gpio()\n",
    "    fork = threading.Lock()\n",
    "    for i in range(3):\n",
    "        t = threading.Thread(target=loop, args=(fork, i))\n",
    "        threads.append(t)\n",
    "        t.start()\n",
    "        \n",
    "def stop_rgb():\n",
    "    global running, threads\n",
    "    running = False\n",
    "    for t in threads:\n",
    "        t.join()"
   ]
  },
  {
   "cell_type": "code",
   "execution_count": null,
   "metadata": {},
   "outputs": [],
   "source": [
    "def run_pynq_server_R():\n",
    "    global blink\n",
    "    sock = socket.socket(socket.AF_INET, socket.SOCK_STREAM)\n",
    "    sock.bind(('192.168.2.99', 12345))\n",
    "    sock.listen()\n",
    "    conn, addr = sock.accept()\n",
    "    with conn:\n",
    "        print(\"before pynq R\")\n",
    "        start_rgb()\n",
    "        while True:\n",
    "            time.sleep(0.0001)\n",
    "            data = conn.recv(1024)\n",
    "            if (data.decode() == 'disconnect'):\n",
    "                print(\"disconnect pynq R\")\n",
    "                stop_rgb()\n",
    "                break\n",
    "            elif (data.decode() == 'blue'):\n",
    "                print(\"blue pynq R\")\n",
    "                blink[0] = not blink[0]\n",
    "            elif (data.decode() == 'green'):\n",
    "                print(\"green pynq R\")\n",
    "                blink[1] = not blink[1]\n",
    "            elif (data.decode() == 'red'):\n",
    "                print(\"red pynq R\")\n",
    "                blink[2] = not blink[2]\n",
    "    print(\"after pynq R\")\n",
    "\n",
    "def run_pynq_client_R():\n",
    "    sock = socket.socket(socket.AF_INET, socket.SOCK_STREAM)\n",
    "    while True:\n",
    "        time.sleep(0.0001)\n",
    "        if base.buttons[0].read() != 0:\n",
    "            sock.connect(('192.168.2.1', 54321))\n",
    "            break\n",
    "    while True:\n",
    "        time.sleep(0.0001)\n",
    "        if base.buttons[0].read() != 0:\n",
    "            sock.sendall(b'disconnect')\n",
    "            break\n",
    "        elif base.buttons[1].read() != 0:\n",
    "            sock.sendall(b'blue')\n",
    "        elif base.buttons[2].read() != 0:\n",
    "            sock.sendall(b'green') \n",
    "        elif base.buttons[3].read() != 0:\n",
    "            sock.sendall(b'red') \n",
    "    sock.close()\n",
    "\n",
    "p_server = multiprocessing.Process(target=run_pynq_server_R)\n",
    "p_server.start()\n",
    "os.system(\"taskset -p -c {} {}\".format(0, p_server.pid))\n",
    "\n",
    "p_client = multiprocessing.Process(target=run_pynq_client_R)\n",
    "p_client.start()\n",
    "os.system(\"taskset -p -c {} {}\".format(1, p_client.pid))\n",
    "\n",
    "p_server.join();\n",
    "p_client.join();"
   ]
  },
  {
   "cell_type": "code",
   "execution_count": null,
   "metadata": {},
   "outputs": [],
   "source": []
  }
 ],
 "metadata": {
  "kernelspec": {
   "display_name": "Python 3",
   "language": "python",
   "name": "python3"
  },
  "language_info": {
   "codemirror_mode": {
    "name": "ipython",
    "version": 3
   },
   "file_extension": ".py",
   "mimetype": "text/x-python",
   "name": "python",
   "nbconvert_exporter": "python",
   "pygments_lexer": "ipython3",
   "version": "3.6.5"
  }
 },
 "nbformat": 4,
 "nbformat_minor": 2
}
