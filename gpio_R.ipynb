{
 "cells": [
  {
   "cell_type": "markdown",
   "metadata": {},
   "source": [
    "# Interacting with GPIO from MicroBlaze"
   ]
  },
  {
   "cell_type": "code",
   "execution_count": 1,
   "metadata": {},
   "outputs": [
    {
     "data": {
      "application/javascript": [
       "\n",
       "require(['notebook/js/codecell'], function(codecell) {\n",
       "  codecell.CodeCell.options_default.highlight_modes[\n",
       "      'magic_text/x-csrc'] = {'reg':[/^%%microblaze/]};\n",
       "  Jupyter.notebook.events.one('kernel_ready.Kernel', function(){\n",
       "      Jupyter.notebook.get_cells().map(function(cell){\n",
       "          if (cell.cell_type == 'code'){ cell.auto_highlight(); } }) ;\n",
       "  });\n",
       "});\n"
      ]
     },
     "metadata": {},
     "output_type": "display_data"
    }
   ],
   "source": [
    "from pynq.overlays.base import BaseOverlay\n",
    "import time\n",
    "import multiprocessing\n",
    "import os\n",
    "import socket\n",
    "\n",
    "base = BaseOverlay(\"base.bit\")"
   ]
  },
  {
   "cell_type": "code",
   "execution_count": 2,
   "metadata": {},
   "outputs": [],
   "source": [
    "%%microblaze base.PMODB\n",
    "\n",
    "#include \"gpio.h\"\n",
    "#include \"pyprintf.h\"\n",
    "\n",
    "//Function to read the value of a selected pin\n",
    "unsigned int read_gpio(unsigned int pin){\n",
    "    gpio pin_in = gpio_open(pin);\n",
    "    gpio_set_direction(pin_in, GPIO_IN);\n",
    "    return gpio_read(pin_in);\n",
    "}\n",
    "\n",
    "//Function to turn on/off a selected pin\n",
    "void write_gpio(unsigned int pin, unsigned int val){\n",
    "    if (val > 1){\n",
    "        pyprintf(\"pin value must be 0 or 1\");\n",
    "    }\n",
    "    gpio pin_out = gpio_open(pin);\n",
    "    gpio_set_direction(pin_out, GPIO_OUT);\n",
    "    gpio_write(pin_out, val);\n",
    "}\n",
    "\n",
    "//Function to reset all pins\n",
    "void reset_gpio(){\n",
    "    for (unsigned int i = 0; i < 8; i++){\n",
    "        write_gpio(i, 0);\n",
    "    }\n",
    "}"
   ]
  },
  {
   "cell_type": "code",
   "execution_count": null,
   "metadata": {},
   "outputs": [],
   "source": [
    "def run_pynq_server_R():\n",
    "    sock = socket.socket(socket.AF_INET, socket.SOCK_STREAM)\n",
    "    sock.bind(('192.168.2.99', 12345))\n",
    "    sock.listen()\n",
    "    conn, addr = sock.accept()\n",
    "    with conn:\n",
    "        print(\"before pynq R\")\n",
    "        while True:\n",
    "            print(\"inside pynq R\")\n",
    "            time.sleep(0.0001)\n",
    "            data = conn.recv(1024)\n",
    "            if (data.decode() == 'disconnect'):\n",
    "                print(\"disconnect pynq R\")\n",
    "                break\n",
    "            # logic for RGBLED blinking\n",
    "    print(\"after pynq R\")\n",
    "\n",
    "def run_pynq_client_R():\n",
    "    sock = socket.socket(socket.AF_INET, socket.SOCK_STREAM)\n",
    "    while True:\n",
    "        time.sleep(0.0001)\n",
    "        if base.buttons[0].read() != 0:\n",
    "            sock.connect(('192.168.2.1', 54321))\n",
    "            break\n",
    "    while True:\n",
    "        time.sleep(0.0001)\n",
    "        if base.buttons[3].read() != 0:\n",
    "            sock.sendall(b'disconnect')\n",
    "            break\n",
    "    sock.close()\n",
    "\n",
    "p_server = multiprocessing.Process(target=run_pynq_server_R)\n",
    "p_server.start()\n",
    "os.system(\"taskset -p -c {} {}\".format(0, p_server.pid))\n",
    "\n",
    "p_client = multiprocessing.Process(target=run_pynq_client_R)\n",
    "p_client.start()\n",
    "os.system(\"taskset -p -c {} {}\".format(1, p_client.pid))\n",
    "\n",
    "p_server.join();\n",
    "p_client.join();"
   ]
  },
  {
   "cell_type": "code",
   "execution_count": null,
   "metadata": {},
   "outputs": [],
   "source": []
  }
 ],
 "metadata": {
  "kernelspec": {
   "display_name": "Python 3",
   "language": "python",
   "name": "python3"
  },
  "language_info": {
   "codemirror_mode": {
    "name": "ipython",
    "version": 3
   },
   "file_extension": ".py",
   "mimetype": "text/x-python",
   "name": "python",
   "nbconvert_exporter": "python",
   "pygments_lexer": "ipython3",
   "version": "3.6.5"
  }
 },
 "nbformat": 4,
 "nbformat_minor": 2
}
